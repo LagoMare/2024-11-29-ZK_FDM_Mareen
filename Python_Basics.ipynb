{
 "cells": [
  {
   "cell_type": "markdown",
   "id": "155ec5e7-441f-4a6b-bd68-931850febde5",
   "metadata": {},
   "source": [
    "# Python Einführung"
   ]
  },
  {
   "cell_type": "code",
   "execution_count": 1,
   "id": "89b4eadd-8912-4875-8e54-10e49b10c5ff",
   "metadata": {},
   "outputs": [
    {
     "name": "stdout",
     "output_type": "stream",
     "text": [
      "Hello world!\n"
     ]
    }
   ],
   "source": [
    "print(\"Hello world!\")"
   ]
  },
  {
   "cell_type": "code",
   "execution_count": 17,
   "id": "18204ec9-4030-431e-8114-2fa33db5e43b",
   "metadata": {},
   "outputs": [
    {
     "name": "stdout",
     "output_type": "stream",
     "text": [
      "Whatever\n"
     ]
    }
   ],
   "source": [
    "# Kommentar\n",
    "print(\"Whatever\")"
   ]
  },
  {
   "cell_type": "code",
   "execution_count": 18,
   "id": "b35fa6f4-5ba3-4c23-aef9-8b45a7b734d9",
   "metadata": {},
   "outputs": [
    {
     "name": "stdout",
     "output_type": "stream",
     "text": [
      "Whatever\n"
     ]
    }
   ],
   "source": [
    "# Kommentar\n",
    "print(\"Whatever\")"
   ]
  },
  {
   "cell_type": "markdown",
   "id": "344eaf92-00ff-4d9c-bf88-c8ee779c70c7",
   "metadata": {},
   "source": [
    "## Einfache Datentypen"
   ]
  },
  {
   "cell_type": "code",
   "execution_count": 4,
   "id": "f8ec978d-69e8-484e-a78c-c93776926c70",
   "metadata": {},
   "outputs": [],
   "source": [
    "# Variablen und Wertezuweisungen\n",
    "name = \"Lovelace\""
   ]
  },
  {
   "cell_type": "code",
   "execution_count": 5,
   "id": "ed6fe0ef-a1df-4c36-88b9-2cb2c3e6ede4",
   "metadata": {},
   "outputs": [
    {
     "name": "stdout",
     "output_type": "stream",
     "text": [
      "Lovelace\n"
     ]
    }
   ],
   "source": [
    "print (name)"
   ]
  },
  {
   "cell_type": "code",
   "execution_count": 9,
   "id": "794794f2-5053-4c65-94b5-a62498f6e439",
   "metadata": {},
   "outputs": [
    {
     "name": "stdout",
     "output_type": "stream",
     "text": [
      "Ada\n"
     ]
    }
   ],
   "source": [
    "# String - Zeichenkette\n",
    "first_name = \"Ada\"\n",
    "print(first_name)"
   ]
  },
  {
   "cell_type": "code",
   "execution_count": 10,
   "id": "bd7c081a-18d9-47df-81b6-add1f2d588cd",
   "metadata": {},
   "outputs": [
    {
     "name": "stdout",
     "output_type": "stream",
     "text": [
      "37\n"
     ]
    }
   ],
   "source": [
    "# Integer - Ganzzahlen\n",
    "age = 37\n",
    "print(age)"
   ]
  },
  {
   "cell_type": "code",
   "execution_count": 11,
   "id": "fc7f6b63-a274-4cd5-a317-24682cc74ae1",
   "metadata": {},
   "outputs": [
    {
     "name": "stdout",
     "output_type": "stream",
     "text": [
      "1.7123\n"
     ]
    }
   ],
   "source": [
    "# Float - Gleitkommazahlen\n",
    "size = 1.7123\n",
    "print(size)"
   ]
  },
  {
   "cell_type": "code",
   "execution_count": 12,
   "id": "b4144394-3cd7-4b73-87cf-0bc41f35156d",
   "metadata": {},
   "outputs": [
    {
     "name": "stdout",
     "output_type": "stream",
     "text": [
      "True\n",
      "False\n"
     ]
    }
   ],
   "source": [
    "# Boolean - Boolsche Werte\n",
    "knows_math = True\n",
    "print(knows_math)\n",
    "likes_gardening = False\n",
    "print(likes_gardening)"
   ]
  },
  {
   "cell_type": "code",
   "execution_count": 13,
   "id": "1e1e58b3-34e1-4437-a690-b6a1efd1808e",
   "metadata": {},
   "outputs": [
    {
     "data": {
      "text/plain": [
       "str"
      ]
     },
     "execution_count": 13,
     "metadata": {},
     "output_type": "execute_result"
    }
   ],
   "source": [
    "# Typen anzeigen lassen \n",
    "type(name)"
   ]
  },
  {
   "cell_type": "code",
   "execution_count": 14,
   "id": "e6c86919-2c30-4047-97e9-a2d2968890a7",
   "metadata": {},
   "outputs": [
    {
     "data": {
      "text/plain": [
       "'Lovelace'"
      ]
     },
     "execution_count": 14,
     "metadata": {},
     "output_type": "execute_result"
    }
   ],
   "source": [
    "name"
   ]
  },
  {
   "cell_type": "code",
   "execution_count": 15,
   "id": "80dc8641-ea41-430b-8465-9cb20c1f547d",
   "metadata": {},
   "outputs": [
    {
     "data": {
      "text/plain": [
       "37"
      ]
     },
     "execution_count": 15,
     "metadata": {},
     "output_type": "execute_result"
    }
   ],
   "source": [
    "name\n",
    "age"
   ]
  },
  {
   "cell_type": "code",
   "execution_count": 16,
   "id": "d0f1ba92-2448-493c-b040-6ae245aba7e1",
   "metadata": {},
   "outputs": [
    {
     "name": "stdout",
     "output_type": "stream",
     "text": [
      "Lovelace\n",
      "37\n"
     ]
    }
   ],
   "source": [
    "print(name)\n",
    "print(age)"
   ]
  },
  {
   "cell_type": "markdown",
   "id": "9d95e470-9741-44ef-bf7a-cea165cfb319",
   "metadata": {},
   "source": [
    "## Operatoren"
   ]
  },
  {
   "cell_type": "code",
   "execution_count": 19,
   "id": "2a1c2f05-cf71-42c9-a742-5f282405c01a",
   "metadata": {},
   "outputs": [
    {
     "data": {
      "text/plain": [
       "10"
      ]
     },
     "execution_count": 19,
     "metadata": {},
     "output_type": "execute_result"
    }
   ],
   "source": [
    "# Addition\n",
    "5 + 5"
   ]
  },
  {
   "cell_type": "code",
   "execution_count": 20,
   "id": "34a88cf9-0dc0-4e17-ba4a-a08a84c55896",
   "metadata": {},
   "outputs": [
    {
     "data": {
      "text/plain": [
       "3700"
      ]
     },
     "execution_count": 20,
     "metadata": {},
     "output_type": "execute_result"
    }
   ],
   "source": [
    "# Multiplikation\n",
    "age * 100"
   ]
  },
  {
   "cell_type": "code",
   "execution_count": 21,
   "id": "9ba200d0-09df-406f-a060-cf2c6fab4dfb",
   "metadata": {},
   "outputs": [
    {
     "data": {
      "text/plain": [
       "'LovelaceLovelace'"
      ]
     },
     "execution_count": 21,
     "metadata": {},
     "output_type": "execute_result"
    }
   ],
   "source": [
    "# Verkettung von strings\n",
    "name + name"
   ]
  },
  {
   "cell_type": "code",
   "execution_count": 22,
   "id": "b279aabf-1551-4540-a78e-a0f43308c14a",
   "metadata": {},
   "outputs": [
    {
     "data": {
      "text/plain": [
       "'AdaLovelace'"
      ]
     },
     "execution_count": 22,
     "metadata": {},
     "output_type": "execute_result"
    }
   ],
   "source": [
    "first_name + name"
   ]
  },
  {
   "cell_type": "code",
   "execution_count": 23,
   "id": "70094317-50da-4359-8448-6d7a85a4f168",
   "metadata": {},
   "outputs": [
    {
     "name": "stdout",
     "output_type": "stream",
     "text": [
      "Ada Lovelace\n"
     ]
    }
   ],
   "source": [
    "print (first_name + \" \" + name)"
   ]
  },
  {
   "cell_type": "code",
   "execution_count": 24,
   "id": "323fce37-821c-48a0-8761-877ed90bfc79",
   "metadata": {},
   "outputs": [
    {
     "data": {
      "text/plain": [
       "'AdaLovelace'"
      ]
     },
     "execution_count": 24,
     "metadata": {},
     "output_type": "execute_result"
    }
   ],
   "source": [
    "first_name + \"\" + name"
   ]
  },
  {
   "cell_type": "code",
   "execution_count": 25,
   "id": "0ecbf999-22de-437c-9473-2ec3353d9437",
   "metadata": {},
   "outputs": [
    {
     "data": {
      "text/plain": [
       "'LovelaceLovelaceLovelaceLovelaceLovelaceLovelaceLovelaceLovelaceLovelaceLovelace'"
      ]
     },
     "execution_count": 25,
     "metadata": {},
     "output_type": "execute_result"
    }
   ],
   "source": [
    "name * 10"
   ]
  },
  {
   "cell_type": "code",
   "execution_count": 26,
   "id": "d3e66696-ab76-4aa0-a645-af7eebf5538c",
   "metadata": {},
   "outputs": [
    {
     "ename": "TypeError",
     "evalue": "can only concatenate str (not \"int\") to str",
     "output_type": "error",
     "traceback": [
      "\u001b[1;31m---------------------------------------------------------------------------\u001b[0m",
      "\u001b[1;31mTypeError\u001b[0m                                 Traceback (most recent call last)",
      "Cell \u001b[1;32mIn[26], line 1\u001b[0m\n\u001b[1;32m----> 1\u001b[0m \u001b[43mname\u001b[49m\u001b[43m \u001b[49m\u001b[38;5;241;43m+\u001b[39;49m\u001b[43m \u001b[49m\u001b[38;5;241;43m10\u001b[39;49m\n",
      "\u001b[1;31mTypeError\u001b[0m: can only concatenate str (not \"int\") to str"
     ]
    }
   ],
   "source": [
    "name + 10"
   ]
  },
  {
   "cell_type": "code",
   "execution_count": 27,
   "id": "92a451f0-c843-4026-a05d-4d8e0c134161",
   "metadata": {},
   "outputs": [
    {
     "data": {
      "text/plain": [
       "'Lovelace10'"
      ]
     },
     "execution_count": 27,
     "metadata": {},
     "output_type": "execute_result"
    }
   ],
   "source": [
    "name + \"10\""
   ]
  },
  {
   "cell_type": "code",
   "execution_count": 28,
   "id": "4582262d-5ac9-4e61-892a-1607b0fdb10c",
   "metadata": {},
   "outputs": [
    {
     "data": {
      "text/plain": [
       "0.04627837837837838"
      ]
     },
     "execution_count": 28,
     "metadata": {},
     "output_type": "execute_result"
    }
   ],
   "source": [
    "# Division\n",
    "size / age"
   ]
  },
  {
   "cell_type": "code",
   "execution_count": 33,
   "id": "4ccabe4e-cb91-4ef4-81f8-f9559893f7d1",
   "metadata": {},
   "outputs": [],
   "source": [
    "number_of_articles = \"50\""
   ]
  },
  {
   "cell_type": "code",
   "execution_count": 34,
   "id": "9231b32d-06e6-46a3-84f1-4e5004e13f08",
   "metadata": {},
   "outputs": [
    {
     "ename": "NameError",
     "evalue": "name 'number_of_articels' is not defined",
     "output_type": "error",
     "traceback": [
      "\u001b[1;31m---------------------------------------------------------------------------\u001b[0m",
      "\u001b[1;31mNameError\u001b[0m                                 Traceback (most recent call last)",
      "Cell \u001b[1;32mIn[34], line 1\u001b[0m\n\u001b[1;32m----> 1\u001b[0m \u001b[43mnumber_of_articels\u001b[49m \u001b[38;5;241m/\u001b[39m \u001b[38;5;241m10\u001b[39m\n",
      "\u001b[1;31mNameError\u001b[0m: name 'number_of_articels' is not defined"
     ]
    }
   ],
   "source": [
    "number_of_articels / 10"
   ]
  },
  {
   "cell_type": "code",
   "execution_count": 35,
   "id": "f2c2fca8-b768-4393-a12e-4a195754deee",
   "metadata": {},
   "outputs": [
    {
     "data": {
      "text/plain": [
       "5.0"
      ]
     },
     "execution_count": 35,
     "metadata": {},
     "output_type": "execute_result"
    }
   ],
   "source": [
    "int(number_of_articles) / 10"
   ]
  },
  {
   "cell_type": "markdown",
   "id": "0f5b392f-eedb-4fe4-b81a-951ea0455346",
   "metadata": {},
   "source": [
    "## Funktionen und Methoden"
   ]
  },
  {
   "cell_type": "code",
   "execution_count": 45,
   "id": "70baf7a0-baf1-440e-a788-e59c306672e7",
   "metadata": {},
   "outputs": [
    {
     "data": {
      "text/plain": [
       "8"
      ]
     },
     "execution_count": 45,
     "metadata": {},
     "output_type": "execute_result"
    }
   ],
   "source": [
    "# Funktion - Länge\n",
    "len(name)"
   ]
  },
  {
   "cell_type": "code",
   "execution_count": 44,
   "id": "ef74e7fb-7411-4243-9290-de9e1969503c",
   "metadata": {},
   "outputs": [
    {
     "data": {
      "text/plain": [
       "'LOVELACE'"
      ]
     },
     "execution_count": 44,
     "metadata": {},
     "output_type": "execute_result"
    }
   ],
   "source": [
    "# Methode - alles groß schreiben\n",
    "name.upper()"
   ]
  },
  {
   "cell_type": "code",
   "execution_count": 40,
   "id": "e59db96d-d888-460e-bc01-efc22f2865db",
   "metadata": {},
   "outputs": [
    {
     "data": {
      "text/plain": [
       "'Lovelace'"
      ]
     },
     "execution_count": 40,
     "metadata": {},
     "output_type": "execute_result"
    }
   ],
   "source": [
    "name"
   ]
  },
  {
   "cell_type": "code",
   "execution_count": 46,
   "id": "5f3755ba-4a58-4ade-a7dc-805d5300decc",
   "metadata": {},
   "outputs": [
    {
     "data": {
      "text/plain": [
       "2"
      ]
     },
     "execution_count": 46,
     "metadata": {},
     "output_type": "execute_result"
    }
   ],
   "source": [
    "# Methode mit einem Argument, 'e' in Lovelace zählen\n",
    "name.count(\"e\")"
   ]
  },
  {
   "cell_type": "code",
   "execution_count": 42,
   "id": "f64526de-acd8-435a-9cb4-3e4345b7dd16",
   "metadata": {},
   "outputs": [
    {
     "data": {
      "text/plain": [
       "1"
      ]
     },
     "execution_count": 42,
     "metadata": {},
     "output_type": "execute_result"
    }
   ],
   "source": [
    "name.count(\"l\")"
   ]
  },
  {
   "cell_type": "code",
   "execution_count": 43,
   "id": "d4a82a0e-e4e9-40f3-ab75-888885de71be",
   "metadata": {},
   "outputs": [
    {
     "data": {
      "text/plain": [
       "2"
      ]
     },
     "execution_count": 43,
     "metadata": {},
     "output_type": "execute_result"
    }
   ],
   "source": [
    "name.upper().count(\"L\")"
   ]
  },
  {
   "cell_type": "code",
   "execution_count": 47,
   "id": "b687a92b-ae9b-45e7-9044-6f159fb2ea6b",
   "metadata": {},
   "outputs": [],
   "source": [
    "name_upper = name.upper()"
   ]
  },
  {
   "cell_type": "code",
   "execution_count": 49,
   "id": "3fd18900-b24b-4f02-8e42-243ad678981d",
   "metadata": {},
   "outputs": [
    {
     "name": "stdout",
     "output_type": "stream",
     "text": [
      "LOVELACE\n"
     ]
    }
   ],
   "source": [
    "print (name_upper)"
   ]
  },
  {
   "cell_type": "code",
   "execution_count": 51,
   "id": "9e36df62-b561-4c31-bb03-089a4c592c51",
   "metadata": {},
   "outputs": [
    {
     "data": {
      "text/plain": [
       "'Love is everywhere'"
      ]
     },
     "execution_count": 51,
     "metadata": {},
     "output_type": "execute_result"
    }
   ],
   "source": [
    "# Methode mit zwei Argumenten, ersetzen das erste durch das zweite\n",
    "name.replace(\"lace\", \" is everywhere\")"
   ]
  },
  {
   "cell_type": "markdown",
   "id": "ce08c129-eb34-4961-b3b0-c9b45bc0b638",
   "metadata": {},
   "source": [
    "## Listen und Dictionaries"
   ]
  },
  {
   "cell_type": "code",
   "execution_count": 52,
   "id": "4c24c854-f1d1-4f5f-8639-0baadf66fba7",
   "metadata": {},
   "outputs": [],
   "source": [
    "# Liste erstellen und ihr mehrere Werte geben; Liste sind eckige Klammern\n",
    "names = [\"Lovelace\", \"Darwin\", \"Noether\", \"Hawking\"]"
   ]
  },
  {
   "cell_type": "code",
   "execution_count": 53,
   "id": "c8672dcb-46b4-4e4c-bbde-f67b39b26c46",
   "metadata": {},
   "outputs": [
    {
     "data": {
      "text/plain": [
       "['Lovelace', 'Darwin', 'Noether', 'Hawking']"
      ]
     },
     "execution_count": 53,
     "metadata": {},
     "output_type": "execute_result"
    }
   ],
   "source": [
    "names"
   ]
  },
  {
   "cell_type": "code",
   "execution_count": 54,
   "id": "5c68ff52-4722-4d41-b165-b72fd1846d34",
   "metadata": {},
   "outputs": [
    {
     "data": {
      "text/plain": [
       "'Darwin'"
      ]
     },
     "execution_count": 54,
     "metadata": {},
     "output_type": "execute_result"
    }
   ],
   "source": [
    "names[1]"
   ]
  },
  {
   "cell_type": "code",
   "execution_count": 55,
   "id": "69b9890e-53e1-41bf-b72d-135e5c508a5c",
   "metadata": {},
   "outputs": [
    {
     "data": {
      "text/plain": [
       "'Lovelace'"
      ]
     },
     "execution_count": 55,
     "metadata": {},
     "output_type": "execute_result"
    }
   ],
   "source": [
    "names[0]"
   ]
  },
  {
   "cell_type": "code",
   "execution_count": 56,
   "id": "d40e6c5c-d012-4461-9d8d-76d1fefaf9ae",
   "metadata": {},
   "outputs": [
    {
     "data": {
      "text/plain": [
       "'Hawking'"
      ]
     },
     "execution_count": 56,
     "metadata": {},
     "output_type": "execute_result"
    }
   ],
   "source": [
    "# letzter Wert in der Liste -1\n",
    "names[-1]"
   ]
  },
  {
   "cell_type": "code",
   "execution_count": 57,
   "id": "846a0243-5715-48f9-91a4-4782cc3c5f38",
   "metadata": {},
   "outputs": [
    {
     "data": {
      "text/plain": [
       "['Lovelace', 'Darwin', 'Noether']"
      ]
     },
     "execution_count": 57,
     "metadata": {},
     "output_type": "execute_result"
    }
   ],
   "source": [
    "# von bis mit Doppelpunkt, erstes Element inklusiv, letztes Element exklusiv\n",
    "names[0:3]"
   ]
  },
  {
   "cell_type": "code",
   "execution_count": 58,
   "id": "5f3b5338-637c-47ab-970e-675f9eed2a60",
   "metadata": {},
   "outputs": [
    {
     "data": {
      "text/plain": [
       "['Lovelace', 'Darwin']"
      ]
     },
     "execution_count": 58,
     "metadata": {},
     "output_type": "execute_result"
    }
   ],
   "source": [
    "# slicing \n",
    "names[:2]"
   ]
  },
  {
   "cell_type": "code",
   "execution_count": 59,
   "id": "d7c7fc8e-4b19-4c4c-8ec8-8a2f3f82b57b",
   "metadata": {},
   "outputs": [
    {
     "data": {
      "text/plain": [
       "['Noether', 'Hawking']"
      ]
     },
     "execution_count": 59,
     "metadata": {},
     "output_type": "execute_result"
    }
   ],
   "source": [
    "names[2:]"
   ]
  },
  {
   "cell_type": "code",
   "execution_count": 60,
   "id": "572b094f-6de1-4494-b2ac-7ece6239d599",
   "metadata": {},
   "outputs": [],
   "source": [
    "# Dictionaries - mehrere Werte ablegen, aber mit Schlüssel-Wertpaaren\n",
    "authors_and_birth_years = {\"Lovelace\": 1815, \"Darwin\": 1809, \"Noether\": 1882, \"Hawking\": 1942}"
   ]
  },
  {
   "cell_type": "code",
   "execution_count": 62,
   "id": "fda4f734-b700-4039-9158-a8487d758bfe",
   "metadata": {},
   "outputs": [
    {
     "data": {
      "text/plain": [
       "1809"
      ]
     },
     "execution_count": 62,
     "metadata": {},
     "output_type": "execute_result"
    }
   ],
   "source": [
    "authors_and_birth_years[\"Darwin\"]"
   ]
  },
  {
   "cell_type": "markdown",
   "id": "758c5370-a877-4721-ad2d-065b6e38ed37",
   "metadata": {},
   "source": [
    "## For-Schleife"
   ]
  },
  {
   "cell_type": "code",
   "execution_count": 66,
   "id": "fd4650cb-2824-45a4-b5bf-b253681afedc",
   "metadata": {},
   "outputs": [
    {
     "data": {
      "text/plain": [
       "['Lovelace', 'Darwin', 'Noether', 'Hawking']"
      ]
     },
     "execution_count": 66,
     "metadata": {},
     "output_type": "execute_result"
    }
   ],
   "source": [
    "names"
   ]
  },
  {
   "cell_type": "code",
   "execution_count": 65,
   "id": "fc17d9a3-afe0-4c1b-b054-4bac24d63bc7",
   "metadata": {},
   "outputs": [
    {
     "name": "stdout",
     "output_type": "stream",
     "text": [
      "Lovelace did awesome stuff.\n",
      "Darwin did awesome stuff.\n",
      "Noether did awesome stuff.\n",
      "Hawking did awesome stuff.\n"
     ]
    }
   ],
   "source": [
    "# mehrere Dinge/For-Schleife auf eine Liste anwenden\n",
    "for person in names: \n",
    "    print (person + \" did awesome stuff.\")"
   ]
  },
  {
   "cell_type": "code",
   "execution_count": 67,
   "id": "f90519e3-f957-4b57-8445-b463b558d3ca",
   "metadata": {},
   "outputs": [
    {
     "name": "stdout",
     "output_type": "stream",
     "text": [
      "Lovelace didi awesome stuff.\n",
      "Darwin didi awesome stuff.\n",
      "Noether didi awesome stuff.\n",
      "Hawking didi awesome stuff.\n",
      "-----\n"
     ]
    }
   ],
   "source": [
    "for person in names: \n",
    "    print (person + \" didi awesome stuff.\")\n",
    "print (\"-----\")    "
   ]
  },
  {
   "cell_type": "code",
   "execution_count": 68,
   "id": "030c7aaa-7cd5-4b64-b4e9-0bdb8e28df78",
   "metadata": {},
   "outputs": [
    {
     "name": "stdout",
     "output_type": "stream",
     "text": [
      "Lovelace didi awesome stuff.\n",
      "-----\n",
      "Darwin didi awesome stuff.\n",
      "-----\n",
      "Noether didi awesome stuff.\n",
      "-----\n",
      "Hawking didi awesome stuff.\n",
      "-----\n"
     ]
    }
   ],
   "source": [
    "for person in names: \n",
    "    print (person + \" didi awesome stuff.\")\n",
    "    print (\"-----\") "
   ]
  },
  {
   "cell_type": "code",
   "execution_count": 69,
   "id": "692db57d-e988-4836-86c8-7fa48bf84864",
   "metadata": {},
   "outputs": [
    {
     "name": "stdout",
     "output_type": "stream",
     "text": [
      "Variable                  Type     Data/Info\n",
      "--------------------------------------------\n",
      "age                       int      37\n",
      "authors_and_birth_years   dict     n=4\n",
      "first_name                str      Ada\n",
      "knows_math                bool     True\n",
      "likes_gardening           bool     False\n",
      "name                      str      Lovelace\n",
      "name_upper                str      LOVELACE\n",
      "names                     list     n=4\n",
      "number_of_artices         str      50\n",
      "number_of_articles        str      50\n",
      "person                    str      Hawking\n",
      "size                      float    1.7123\n"
     ]
    }
   ],
   "source": [
    "%whos"
   ]
  },
  {
   "cell_type": "code",
   "execution_count": 70,
   "id": "b0af7c64-9288-4364-b2f7-e665c3cb342c",
   "metadata": {},
   "outputs": [],
   "source": [
    "# Variable löschen mit del (für delete)"
   ]
  },
  {
   "cell_type": "markdown",
   "id": "c6a350eb-1b68-415b-bce8-d957043820e2",
   "metadata": {},
   "source": [
    "## Conditionals (bedingte Anweisungen)"
   ]
  },
  {
   "cell_type": "code",
   "execution_count": 74,
   "id": "256ff59b-5d84-4e37-94e5-ec1ca51e5d29",
   "metadata": {},
   "outputs": [],
   "source": [
    "# Temperatur einstellen und mit Aussage verknüpfen (warm)\n",
    "temp = 20"
   ]
  },
  {
   "cell_type": "code",
   "execution_count": 75,
   "id": "22eb6272-c4da-4c90-a8da-67b43ffb4183",
   "metadata": {},
   "outputs": [
    {
     "name": "stdout",
     "output_type": "stream",
     "text": [
      "Es ist warm.\n"
     ]
    }
   ],
   "source": [
    "if temp > 15:\n",
    "    print(\"Es ist warm.\")"
   ]
  },
  {
   "cell_type": "code",
   "execution_count": 76,
   "id": "86bc14fe-097b-4766-89b9-ba758ac8b76c",
   "metadata": {},
   "outputs": [
    {
     "data": {
      "text/plain": [
       "True"
      ]
     },
     "execution_count": 76,
     "metadata": {},
     "output_type": "execute_result"
    }
   ],
   "source": [
    "20 > 15"
   ]
  },
  {
   "cell_type": "code",
   "execution_count": 79,
   "id": "d856d7bd-685e-42fa-97c7-284cfe9db82c",
   "metadata": {},
   "outputs": [
    {
     "name": "stdout",
     "output_type": "stream",
     "text": [
      "Es ist kalt.\n"
     ]
    }
   ],
   "source": [
    "temp = 10\n",
    "if temp > 15:\n",
    "    print(\"Es ist warm.\")\n",
    "else: \n",
    "    print(\"Es ist kalt.\")"
   ]
  },
  {
   "cell_type": "code",
   "execution_count": 81,
   "id": "c653bf15-1960-4a7f-b4e1-afd86b85bf6a",
   "metadata": {},
   "outputs": [
    {
     "name": "stdout",
     "output_type": "stream",
     "text": [
      "Es ist warm.\n"
     ]
    }
   ],
   "source": [
    "# elif ist else if\n",
    "temp = 15\n",
    "if temp > 25:\n",
    "    print(\"Es ist heiß.\")\n",
    "elif temp >= 15:\n",
    "    print(\"Es ist warm.\")\n",
    "else: \n",
    "    print(\"Es ist kalt.\")"
   ]
  },
  {
   "cell_type": "code",
   "execution_count": 82,
   "id": "787e04d0-1bea-4934-a5be-979091cc86ff",
   "metadata": {},
   "outputs": [
    {
     "name": "stdout",
     "output_type": "stream",
     "text": [
      "Es ist warm.\n"
     ]
    }
   ],
   "source": [
    "# Reihenfolge beachten, weil das erste, das stimmt ausgegeben wird\n",
    "temp = 30\n",
    "if temp >= 15:\n",
    "    print(\"Es ist warm.\")\n",
    "elif temp > 25:\n",
    "    print(\"Es ist heiß.\")\n",
    "else: \n",
    "    print(\"Es ist kalt.\")"
   ]
  },
  {
   "cell_type": "code",
   "execution_count": null,
   "id": "39cd8a68-be1f-4c4c-96af-dbf23a3470a1",
   "metadata": {},
   "outputs": [],
   "source": []
  }
 ],
 "metadata": {
  "kernelspec": {
   "display_name": "Python 3 (ipykernel)",
   "language": "python",
   "name": "python3"
  },
  "language_info": {
   "codemirror_mode": {
    "name": "ipython",
    "version": 3
   },
   "file_extension": ".py",
   "mimetype": "text/x-python",
   "name": "python",
   "nbconvert_exporter": "python",
   "pygments_lexer": "ipython3",
   "version": "3.12.7"
  }
 },
 "nbformat": 4,
 "nbformat_minor": 5
}
