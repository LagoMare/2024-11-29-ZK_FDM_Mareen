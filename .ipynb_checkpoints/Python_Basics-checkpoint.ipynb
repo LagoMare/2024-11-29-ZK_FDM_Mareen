{
 "cells": [
  {
   "cell_type": "markdown",
   "id": "155ec5e7-441f-4a6b-bd68-931850febde5",
   "metadata": {},
   "source": [
    "# Python Einführung"
   ]
  },
  {
   "cell_type": "code",
   "execution_count": 1,
   "id": "89b4eadd-8912-4875-8e54-10e49b10c5ff",
   "metadata": {},
   "outputs": [
    {
     "name": "stdout",
     "output_type": "stream",
     "text": [
      "Hello world!\n"
     ]
    }
   ],
   "source": [
    "print(\"Hello world!\")"
   ]
  },
  {
   "cell_type": "code",
   "execution_count": 2,
   "id": "18204ec9-4030-431e-8114-2fa33db5e43b",
   "metadata": {},
   "outputs": [
    {
     "name": "stdout",
     "output_type": "stream",
     "text": [
      "Whatever\n"
     ]
    }
   ],
   "source": [
    "# Kommentar\n",
    "print(\"Whatever\")"
   ]
  },
  {
   "cell_type": "code",
   "execution_count": 2,
   "id": "b35fa6f4-5ba3-4c23-aef9-8b45a7b734d9",
   "metadata": {},
   "outputs": [
    {
     "name": "stdout",
     "output_type": "stream",
     "text": [
      "Whatever\n"
     ]
    }
   ],
   "source": [
    "# Kommentar\n",
    "print(\"Whatever\")"
   ]
  },
  {
   "cell_type": "code",
   "execution_count": null,
   "id": "71f2827a-7591-4290-af2c-75a8eae99f0c",
   "metadata": {},
   "outputs": [],
   "source": []
  }
 ],
 "metadata": {
  "kernelspec": {
   "display_name": "Python 3 (ipykernel)",
   "language": "python",
   "name": "python3"
  },
  "language_info": {
   "codemirror_mode": {
    "name": "ipython",
    "version": 3
   },
   "file_extension": ".py",
   "mimetype": "text/x-python",
   "name": "python",
   "nbconvert_exporter": "python",
   "pygments_lexer": "ipython3",
   "version": "3.12.7"
  }
 },
 "nbformat": 4,
 "nbformat_minor": 5
}
